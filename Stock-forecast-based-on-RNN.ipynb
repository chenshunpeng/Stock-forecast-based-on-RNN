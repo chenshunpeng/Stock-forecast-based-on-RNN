{
 "cells": [
  {
   "cell_type": "code",
   "execution_count": 27,
   "id": "bbade047",
   "metadata": {
    "ExecuteTime": {
     "end_time": "2022-08-28T11:49:35.128265Z",
     "start_time": "2022-08-28T11:49:35.109314Z"
    }
   },
   "outputs": [
    {
     "ename": "RuntimeError",
     "evalue": "Physical devices cannot be modified after being initialized",
     "output_type": "error",
     "traceback": [
      "\u001b[1;31m---------------------------------------------------------------------------\u001b[0m",
      "\u001b[1;31mRuntimeError\u001b[0m                              Traceback (most recent call last)",
      "\u001b[1;32mC:\\Users\\HPZBOO~1\\AppData\\Local\\Temp/ipykernel_27496/2669034578.py\u001b[0m in \u001b[0;36m<module>\u001b[1;34m\u001b[0m\n\u001b[0;32m      5\u001b[0m \u001b[1;33m\u001b[0m\u001b[0m\n\u001b[0;32m      6\u001b[0m \u001b[1;32mif\u001b[0m \u001b[0mgpus\u001b[0m\u001b[1;33m:\u001b[0m\u001b[1;33m\u001b[0m\u001b[1;33m\u001b[0m\u001b[0m\n\u001b[1;32m----> 7\u001b[1;33m     \u001b[0mtf\u001b[0m\u001b[1;33m.\u001b[0m\u001b[0mconfig\u001b[0m\u001b[1;33m.\u001b[0m\u001b[0mexperimental\u001b[0m\u001b[1;33m.\u001b[0m\u001b[0mset_memory_growth\u001b[0m\u001b[1;33m(\u001b[0m\u001b[0mgpus\u001b[0m\u001b[1;33m[\u001b[0m\u001b[1;36m0\u001b[0m\u001b[1;33m]\u001b[0m\u001b[1;33m,\u001b[0m \u001b[1;32mTrue\u001b[0m\u001b[1;33m)\u001b[0m  \u001b[1;31m#设置GPU显存用量按需使用\u001b[0m\u001b[1;33m\u001b[0m\u001b[1;33m\u001b[0m\u001b[0m\n\u001b[0m\u001b[0;32m      8\u001b[0m \u001b[1;33m\u001b[0m\u001b[0m\n\u001b[0;32m      9\u001b[0m     \u001b[1;31m#     指定哪些PhysicalDevice 对象对运行时可见。\u001b[0m\u001b[1;33m\u001b[0m\u001b[1;33m\u001b[0m\u001b[1;33m\u001b[0m\u001b[0m\n",
      "\u001b[1;32m~\\AppData\\Roaming\\Python\\Python37\\site-packages\\tensorflow\\python\\framework\\config.py\u001b[0m in \u001b[0;36mset_memory_growth\u001b[1;34m(device, enable)\u001b[0m\n\u001b[0;32m    714\u001b[0m     \u001b[0mRuntimeError\u001b[0m\u001b[1;33m:\u001b[0m \u001b[0mRuntime\u001b[0m \u001b[1;32mis\u001b[0m \u001b[0malready\u001b[0m \u001b[0minitialized\u001b[0m\u001b[1;33m.\u001b[0m\u001b[1;33m\u001b[0m\u001b[1;33m\u001b[0m\u001b[0m\n\u001b[0;32m    715\u001b[0m   \"\"\"\n\u001b[1;32m--> 716\u001b[1;33m   \u001b[0mcontext\u001b[0m\u001b[1;33m.\u001b[0m\u001b[0mcontext\u001b[0m\u001b[1;33m(\u001b[0m\u001b[1;33m)\u001b[0m\u001b[1;33m.\u001b[0m\u001b[0mset_memory_growth\u001b[0m\u001b[1;33m(\u001b[0m\u001b[0mdevice\u001b[0m\u001b[1;33m,\u001b[0m \u001b[0menable\u001b[0m\u001b[1;33m)\u001b[0m\u001b[1;33m\u001b[0m\u001b[1;33m\u001b[0m\u001b[0m\n\u001b[0m\u001b[0;32m    717\u001b[0m \u001b[1;33m\u001b[0m\u001b[0m\n\u001b[0;32m    718\u001b[0m \u001b[1;33m\u001b[0m\u001b[0m\n",
      "\u001b[1;32m~\\AppData\\Roaming\\Python\\Python37\\site-packages\\tensorflow\\python\\eager\\context.py\u001b[0m in \u001b[0;36mset_memory_growth\u001b[1;34m(self, dev, enable)\u001b[0m\n\u001b[0;32m   1648\u001b[0m     \u001b[1;32mif\u001b[0m \u001b[0mself\u001b[0m\u001b[1;33m.\u001b[0m\u001b[0m_context_handle\u001b[0m \u001b[1;32mis\u001b[0m \u001b[1;32mnot\u001b[0m \u001b[1;32mNone\u001b[0m\u001b[1;33m:\u001b[0m\u001b[1;33m\u001b[0m\u001b[1;33m\u001b[0m\u001b[0m\n\u001b[0;32m   1649\u001b[0m       raise RuntimeError(\n\u001b[1;32m-> 1650\u001b[1;33m           \"Physical devices cannot be modified after being initialized\")\n\u001b[0m\u001b[0;32m   1651\u001b[0m \u001b[1;33m\u001b[0m\u001b[0m\n\u001b[0;32m   1652\u001b[0m     \u001b[0mself\u001b[0m\u001b[1;33m.\u001b[0m\u001b[0m_memory_growth_map\u001b[0m\u001b[1;33m[\u001b[0m\u001b[0mdev\u001b[0m\u001b[1;33m]\u001b[0m \u001b[1;33m=\u001b[0m \u001b[0menable\u001b[0m\u001b[1;33m\u001b[0m\u001b[1;33m\u001b[0m\u001b[0m\n",
      "\u001b[1;31mRuntimeError\u001b[0m: Physical devices cannot be modified after being initialized"
     ]
    }
   ],
   "source": [
    "import tensorflow as tf\n",
    "\n",
    "# 探测是否有GPU设备\n",
    "gpus = tf.config.list_physical_devices(\"GPU\")\n",
    "\n",
    "if gpus:\n",
    "    tf.config.experimental.set_memory_growth(gpus[0], True)  #设置GPU显存用量按需使用\n",
    "\n",
    "    #     指定哪些PhysicalDevice 对象对运行时可见。\n",
    "    #     TensorFlow 只会在可见的物理设备上分配内存和放置操作，否则不会在它们上创建 LogicalDevice。\n",
    "    #     默认情况下，所有发现的设备都标记为可见\n",
    "    tf.config.set_visible_devices([gpus[0]], \"GPU\")\n",
    "\n",
    "# 打印显卡信息，确认GPU可用\n",
    "print(gpus)"
   ]
  },
  {
   "cell_type": "code",
   "execution_count": 28,
   "id": "216daf0c",
   "metadata": {
    "ExecuteTime": {
     "end_time": "2022-08-28T11:49:49.011557Z",
     "start_time": "2022-08-28T11:49:49.007567Z"
    }
   },
   "outputs": [
    {
     "name": "stdout",
     "output_type": "stream",
     "text": [
      "[PhysicalDevice(name='/physical_device:GPU:0', device_type='GPU')]\n"
     ]
    }
   ],
   "source": [
    "print(gpus)"
   ]
  },
  {
   "cell_type": "code",
   "execution_count": 2,
   "id": "8e641223",
   "metadata": {
    "ExecuteTime": {
     "end_time": "2022-08-08T23:11:24.456652Z",
     "start_time": "2022-08-08T23:11:21.208279Z"
    }
   },
   "outputs": [],
   "source": [
    "import os, math\n",
    "from tensorflow.keras.layers import Dropout, Dense, SimpleRNN\n",
    "from sklearn.preprocessing import MinMaxScaler\n",
    "from sklearn import metrics\n",
    "import numpy as np\n",
    "import pandas as pd\n",
    "import tensorflow as tf\n",
    "import matplotlib.pyplot as plt\n",
    "# 支持中文\n",
    "plt.rcParams['font.sans-serif'] = ['SimHei']  # 用来正常显示中文标签\n",
    "plt.rcParams['axes.unicode_minus'] = False  # 用来正常显示负号"
   ]
  },
  {
   "cell_type": "code",
   "execution_count": 3,
   "id": "1c7737a2",
   "metadata": {
    "ExecuteTime": {
     "end_time": "2022-08-08T23:11:24.599737Z",
     "start_time": "2022-08-08T23:11:24.457606Z"
    },
    "scrolled": true
   },
   "outputs": [
    {
     "data": {
      "text/html": [
       "<div>\n",
       "<style scoped>\n",
       "    .dataframe tbody tr th:only-of-type {\n",
       "        vertical-align: middle;\n",
       "    }\n",
       "\n",
       "    .dataframe tbody tr th {\n",
       "        vertical-align: top;\n",
       "    }\n",
       "\n",
       "    .dataframe thead th {\n",
       "        text-align: right;\n",
       "    }\n",
       "</style>\n",
       "<table border=\"1\" class=\"dataframe\">\n",
       "  <thead>\n",
       "    <tr style=\"text-align: right;\">\n",
       "      <th></th>\n",
       "      <th>Unnamed: 0</th>\n",
       "      <th>date</th>\n",
       "      <th>open</th>\n",
       "      <th>close</th>\n",
       "      <th>high</th>\n",
       "      <th>low</th>\n",
       "      <th>volume</th>\n",
       "      <th>code</th>\n",
       "    </tr>\n",
       "  </thead>\n",
       "  <tbody>\n",
       "    <tr>\n",
       "      <th>0</th>\n",
       "      <td>74</td>\n",
       "      <td>2010-04-26</td>\n",
       "      <td>88.702</td>\n",
       "      <td>87.381</td>\n",
       "      <td>89.072</td>\n",
       "      <td>87.362</td>\n",
       "      <td>107036.13</td>\n",
       "      <td>600519</td>\n",
       "    </tr>\n",
       "    <tr>\n",
       "      <th>1</th>\n",
       "      <td>75</td>\n",
       "      <td>2010-04-27</td>\n",
       "      <td>87.355</td>\n",
       "      <td>84.841</td>\n",
       "      <td>87.355</td>\n",
       "      <td>84.681</td>\n",
       "      <td>58234.48</td>\n",
       "      <td>600519</td>\n",
       "    </tr>\n",
       "    <tr>\n",
       "      <th>2</th>\n",
       "      <td>76</td>\n",
       "      <td>2010-04-28</td>\n",
       "      <td>84.235</td>\n",
       "      <td>84.318</td>\n",
       "      <td>85.128</td>\n",
       "      <td>83.597</td>\n",
       "      <td>26287.43</td>\n",
       "      <td>600519</td>\n",
       "    </tr>\n",
       "    <tr>\n",
       "      <th>3</th>\n",
       "      <td>77</td>\n",
       "      <td>2010-04-29</td>\n",
       "      <td>84.592</td>\n",
       "      <td>85.671</td>\n",
       "      <td>86.315</td>\n",
       "      <td>84.592</td>\n",
       "      <td>34501.20</td>\n",
       "      <td>600519</td>\n",
       "    </tr>\n",
       "    <tr>\n",
       "      <th>4</th>\n",
       "      <td>78</td>\n",
       "      <td>2010-04-30</td>\n",
       "      <td>83.871</td>\n",
       "      <td>82.340</td>\n",
       "      <td>83.871</td>\n",
       "      <td>81.523</td>\n",
       "      <td>85566.70</td>\n",
       "      <td>600519</td>\n",
       "    </tr>\n",
       "    <tr>\n",
       "      <th>...</th>\n",
       "      <td>...</td>\n",
       "      <td>...</td>\n",
       "      <td>...</td>\n",
       "      <td>...</td>\n",
       "      <td>...</td>\n",
       "      <td>...</td>\n",
       "      <td>...</td>\n",
       "      <td>...</td>\n",
       "    </tr>\n",
       "    <tr>\n",
       "      <th>2421</th>\n",
       "      <td>2495</td>\n",
       "      <td>2020-04-20</td>\n",
       "      <td>1221.000</td>\n",
       "      <td>1227.300</td>\n",
       "      <td>1231.500</td>\n",
       "      <td>1216.800</td>\n",
       "      <td>24239.00</td>\n",
       "      <td>600519</td>\n",
       "    </tr>\n",
       "    <tr>\n",
       "      <th>2422</th>\n",
       "      <td>2496</td>\n",
       "      <td>2020-04-21</td>\n",
       "      <td>1221.020</td>\n",
       "      <td>1200.000</td>\n",
       "      <td>1223.990</td>\n",
       "      <td>1193.000</td>\n",
       "      <td>29224.00</td>\n",
       "      <td>600519</td>\n",
       "    </tr>\n",
       "    <tr>\n",
       "      <th>2423</th>\n",
       "      <td>2497</td>\n",
       "      <td>2020-04-22</td>\n",
       "      <td>1206.000</td>\n",
       "      <td>1244.500</td>\n",
       "      <td>1249.500</td>\n",
       "      <td>1202.220</td>\n",
       "      <td>44035.00</td>\n",
       "      <td>600519</td>\n",
       "    </tr>\n",
       "    <tr>\n",
       "      <th>2424</th>\n",
       "      <td>2498</td>\n",
       "      <td>2020-04-23</td>\n",
       "      <td>1250.000</td>\n",
       "      <td>1252.260</td>\n",
       "      <td>1265.680</td>\n",
       "      <td>1247.770</td>\n",
       "      <td>26899.00</td>\n",
       "      <td>600519</td>\n",
       "    </tr>\n",
       "    <tr>\n",
       "      <th>2425</th>\n",
       "      <td>2499</td>\n",
       "      <td>2020-04-24</td>\n",
       "      <td>1248.000</td>\n",
       "      <td>1250.560</td>\n",
       "      <td>1259.890</td>\n",
       "      <td>1235.180</td>\n",
       "      <td>19122.00</td>\n",
       "      <td>600519</td>\n",
       "    </tr>\n",
       "  </tbody>\n",
       "</table>\n",
       "<p>2426 rows × 8 columns</p>\n",
       "</div>"
      ],
      "text/plain": [
       "      Unnamed: 0        date      open     close      high       low  \\\n",
       "0             74  2010-04-26    88.702    87.381    89.072    87.362   \n",
       "1             75  2010-04-27    87.355    84.841    87.355    84.681   \n",
       "2             76  2010-04-28    84.235    84.318    85.128    83.597   \n",
       "3             77  2010-04-29    84.592    85.671    86.315    84.592   \n",
       "4             78  2010-04-30    83.871    82.340    83.871    81.523   \n",
       "...          ...         ...       ...       ...       ...       ...   \n",
       "2421        2495  2020-04-20  1221.000  1227.300  1231.500  1216.800   \n",
       "2422        2496  2020-04-21  1221.020  1200.000  1223.990  1193.000   \n",
       "2423        2497  2020-04-22  1206.000  1244.500  1249.500  1202.220   \n",
       "2424        2498  2020-04-23  1250.000  1252.260  1265.680  1247.770   \n",
       "2425        2499  2020-04-24  1248.000  1250.560  1259.890  1235.180   \n",
       "\n",
       "         volume    code  \n",
       "0     107036.13  600519  \n",
       "1      58234.48  600519  \n",
       "2      26287.43  600519  \n",
       "3      34501.20  600519  \n",
       "4      85566.70  600519  \n",
       "...         ...     ...  \n",
       "2421   24239.00  600519  \n",
       "2422   29224.00  600519  \n",
       "2423   44035.00  600519  \n",
       "2424   26899.00  600519  \n",
       "2425   19122.00  600519  \n",
       "\n",
       "[2426 rows x 8 columns]"
      ]
     },
     "execution_count": 3,
     "metadata": {},
     "output_type": "execute_result"
    }
   ],
   "source": [
    "data = pd.read_csv('./datasets/data.csv')  # 读取股票文件\n",
    "\n",
    "# 粗略显示文件信息\n",
    "data"
   ]
  },
  {
   "cell_type": "code",
   "execution_count": 4,
   "id": "2e4ffcb4",
   "metadata": {
    "ExecuteTime": {
     "end_time": "2022-08-08T23:11:24.608714Z",
     "start_time": "2022-08-08T23:11:24.601732Z"
    }
   },
   "outputs": [],
   "source": [
    "\"\"\"\n",
    "前(2426-300=2126)天的开盘价作为训练集\n",
    "后300天的开盘价作为测试集\n",
    "\n",
    "表格从0开始计数，2:3 是提取[2:3)列，前闭后开,故提取出C列开盘价(open列)\n",
    "\"\"\"\n",
    "training_set = data.iloc[0:2426 - 300, 2:3].values\n",
    "test_set = data.iloc[2426 - 300:, 2:3].values"
   ]
  },
  {
   "cell_type": "code",
   "execution_count": 5,
   "id": "ed1196ac",
   "metadata": {
    "ExecuteTime": {
     "end_time": "2022-08-08T23:11:24.614700Z",
     "start_time": "2022-08-08T23:11:24.609712Z"
    }
   },
   "outputs": [],
   "source": [
    "# https://blog.csdn.net/weixin_43135178/article/details/124320736\n",
    "# Pandas中loc和iloc函数（提取某几列或者行的数据）"
   ]
  },
  {
   "cell_type": "code",
   "execution_count": 6,
   "id": "e641a9ec",
   "metadata": {
    "ExecuteTime": {
     "end_time": "2022-08-08T23:11:24.622677Z",
     "start_time": "2022-08-08T23:11:24.615697Z"
    }
   },
   "outputs": [
    {
     "data": {
      "text/plain": [
       "array([[ 88.702],\n",
       "       [ 87.355],\n",
       "       [ 84.235],\n",
       "       ...,\n",
       "       [670.3  ],\n",
       "       [675.88 ],\n",
       "       [684.   ]])"
      ]
     },
     "execution_count": 6,
     "metadata": {},
     "output_type": "execute_result"
    }
   ],
   "source": [
    "training_set"
   ]
  },
  {
   "cell_type": "code",
   "execution_count": 7,
   "id": "68283556",
   "metadata": {
    "ExecuteTime": {
     "end_time": "2022-08-08T23:11:24.629664Z",
     "start_time": "2022-08-08T23:11:24.623674Z"
    }
   },
   "outputs": [],
   "source": [
    "# https://blog.csdn.net/Fwuyi/article/details/123137074\n",
    "# MinMaxScaler(feature_range=(0,1))（sklearn库）\n",
    "\n",
    "sc = MinMaxScaler(feature_range=(0, 1))\n",
    "training_set = sc.fit_transform(training_set)\n",
    "test_set = sc.transform(test_set)"
   ]
  },
  {
   "cell_type": "code",
   "execution_count": 8,
   "id": "3b6b8b72",
   "metadata": {
    "ExecuteTime": {
     "end_time": "2022-08-08T23:11:24.637639Z",
     "start_time": "2022-08-08T23:11:24.631656Z"
    }
   },
   "outputs": [
    {
     "data": {
      "text/plain": [
       "array([[0.011711  ],\n",
       "       [0.00980951],\n",
       "       [0.00540518],\n",
       "       ...,\n",
       "       [0.83272021],\n",
       "       [0.84059718],\n",
       "       [0.85205973]])"
      ]
     },
     "execution_count": 8,
     "metadata": {},
     "output_type": "execute_result"
    }
   ],
   "source": [
    "training_set"
   ]
  },
  {
   "cell_type": "code",
   "execution_count": 9,
   "id": "7f04d16c",
   "metadata": {
    "ExecuteTime": {
     "end_time": "2022-08-08T23:11:24.650604Z",
     "start_time": "2022-08-08T23:11:24.641628Z"
    }
   },
   "outputs": [],
   "source": [
    "x_train = []\n",
    "y_train = []\n",
    "\n",
    "x_test = []\n",
    "y_test = []\n",
    "\"\"\"\n",
    "使用前60天的开盘价作为输入特征x_train\n",
    "    第61天的开盘价作为输入标签y_train\n",
    "    \n",
    "for循环共构建2426-300-60=2066组训练数据。\n",
    "       共构建300-60=260组测试数据\n",
    "\"\"\"\n",
    "for i in range(60, len(training_set)):\n",
    "    x_train.append(training_set[i - 60:i, 0])\n",
    "    y_train.append(training_set[i, 0])\n",
    "\n",
    "for i in range(60, len(test_set)):\n",
    "    x_test.append(test_set[i - 60:i, 0])\n",
    "    y_test.append(test_set[i, 0])\n",
    "\n",
    "# 对训练集进行打乱\n",
    "# 要对数据集乱序，输入特征是第1组数据，标签是第2组数据，要对输入特征和标签都做乱序，为了一一对应，就需要随机种子确定\n",
    "# https://blog.csdn.net/qq_36201400/article/details/108512368\n",
    "# tf.random.set_seed用法\n",
    "\n",
    "np.random.seed(7)\n",
    "np.random.shuffle(x_train)\n",
    "np.random.seed(7)\n",
    "np.random.shuffle(y_train)\n",
    "tf.random.set_seed(7)"
   ]
  },
  {
   "cell_type": "code",
   "execution_count": 10,
   "id": "a7a02213",
   "metadata": {
    "ExecuteTime": {
     "end_time": "2022-08-08T23:11:24.660575Z",
     "start_time": "2022-08-08T23:11:24.651599Z"
    }
   },
   "outputs": [],
   "source": [
    "\"\"\"\n",
    "将训练数据（list）调整为数组（array）\n",
    "\n",
    "最终目的：\n",
    "x_train:(2066, 60, 1)\n",
    "y_train:(2066,)\n",
    "x_test :(240, 60, 1)\n",
    "y_test :(240,)\n",
    "\"\"\"\n",
    "\n",
    "x_train, y_train = np.array(x_train), np.array(y_train) # x_train形状为：(2066, 60, 1)\n",
    "x_test,  y_test  = np.array(x_test),  np.array(y_test)"
   ]
  },
  {
   "cell_type": "code",
   "execution_count": 11,
   "id": "3af4c3d1",
   "metadata": {
    "ExecuteTime": {
     "end_time": "2022-08-08T23:11:24.669553Z",
     "start_time": "2022-08-08T23:11:24.662571Z"
    },
    "scrolled": true
   },
   "outputs": [
    {
     "data": {
      "text/plain": [
       "(2066, 60)"
      ]
     },
     "execution_count": 11,
     "metadata": {},
     "output_type": "execute_result"
    }
   ],
   "source": [
    "x_train.shape"
   ]
  },
  {
   "cell_type": "code",
   "execution_count": 12,
   "id": "736f7eeb",
   "metadata": {
    "ExecuteTime": {
     "end_time": "2022-08-08T23:11:24.678529Z",
     "start_time": "2022-08-08T23:11:24.671547Z"
    }
   },
   "outputs": [
    {
     "data": {
      "text/plain": [
       "(240, 60)"
      ]
     },
     "execution_count": 12,
     "metadata": {},
     "output_type": "execute_result"
    }
   ],
   "source": [
    "x_test.shape"
   ]
  },
  {
   "cell_type": "code",
   "execution_count": 45,
   "id": "3bfb2594",
   "metadata": {
    "ExecuteTime": {
     "end_time": "2022-08-08T23:26:43.958990Z",
     "start_time": "2022-08-08T23:26:43.954970Z"
    }
   },
   "outputs": [],
   "source": [
    "\"\"\"\n",
    "输入要求：[送入样本数， 循环核时间展开步数， 每个时间步输入特征个数]\n",
    "\"\"\"\n",
    "x_train = np.reshape(x_train, (x_train.shape[0], 60, 1))\n",
    "x_test = np.reshape(x_test, (x_test.shape[0], 60, 1))"
   ]
  },
  {
   "cell_type": "code",
   "execution_count": 46,
   "id": "fa369f96",
   "metadata": {
    "ExecuteTime": {
     "end_time": "2022-08-08T23:26:44.127507Z",
     "start_time": "2022-08-08T23:26:44.122553Z"
    }
   },
   "outputs": [
    {
     "data": {
      "text/plain": [
       "(2066, 60, 1)"
      ]
     },
     "execution_count": 46,
     "metadata": {},
     "output_type": "execute_result"
    }
   ],
   "source": [
    "x_train.shape"
   ]
  },
  {
   "cell_type": "code",
   "execution_count": 47,
   "id": "f77f994f",
   "metadata": {
    "ExecuteTime": {
     "end_time": "2022-08-08T23:26:44.296530Z",
     "start_time": "2022-08-08T23:26:44.291573Z"
    }
   },
   "outputs": [
    {
     "data": {
      "text/plain": [
       "(240, 60, 1)"
      ]
     },
     "execution_count": 47,
     "metadata": {},
     "output_type": "execute_result"
    }
   ],
   "source": [
    "x_test.shape"
   ]
  },
  {
   "cell_type": "code",
   "execution_count": 113,
   "id": "a3d11a5c",
   "metadata": {
    "ExecuteTime": {
     "end_time": "2022-08-09T00:11:01.169269Z",
     "start_time": "2022-08-09T00:11:01.035626Z"
    }
   },
   "outputs": [],
   "source": [
    "model = tf.keras.Sequential([\n",
    "    SimpleRNN(110, return_sequences=True), #布尔值。是返回输出序列中的最后一个输出，还是全部序列。\n",
    "    Dropout(0.2),                         #防止过拟合\n",
    "    SimpleRNN(110),\n",
    "    Dropout(0.1),\n",
    "    Dense(1)\n",
    "])\n",
    "\n",
    "# 该应用只观测loss数值，不观测准确率，所以删去metrics选项，一会在每个epoch迭代显示时只显示loss值\n",
    "model.compile(optimizer=tf.keras.optimizers.Adam(0.001),\n",
    "              loss='mean_squared_error')  # 损失函数用均方误差"
   ]
  },
  {
   "cell_type": "code",
   "execution_count": 115,
   "id": "09f3cb26",
   "metadata": {
    "ExecuteTime": {
     "end_time": "2022-08-09T00:12:10.995667Z",
     "start_time": "2022-08-09T00:11:01.794597Z"
    }
   },
   "outputs": [
    {
     "name": "stdout",
     "output_type": "stream",
     "text": [
      "Epoch 1/10\n",
      "33/33 [==============================] - 8s 213ms/step - loss: 0.0865 - val_loss: 0.0220 ETA: 1s - los\n",
      "Epoch 2/10\n",
      "33/33 [==============================] - 7s 206ms/step - loss: 0.0155 - val_loss: 0.0440\n",
      "Epoch 3/10\n",
      "33/33 [==============================] - 7s 208ms/step - loss: 0.0098 - val_loss: 0.0090\n",
      "Epoch 4/10\n",
      "33/33 [==============================] - 7s 215ms/step - loss: 0.0060 - val_loss: 0.0145\n",
      "Epoch 5/10\n",
      "33/33 [==============================] - 7s 209ms/step - loss: 0.0047 - val_loss: 0.0200\n",
      "Epoch 6/10\n",
      "33/33 [==============================] - 7s 201ms/step - loss: 0.0042 - val_loss: 0.0185\n",
      "Epoch 7/10\n",
      "33/33 [==============================] - 7s 204ms/step - loss: 0.0036 - val_loss: 0.0238\n",
      "Epoch 8/10\n",
      "33/33 [==============================] - 7s 202ms/step - loss: 0.0036 - val_loss: 0.0146\n",
      "Epoch 9/10\n",
      "33/33 [==============================] - 7s 199ms/step - loss: 0.0029 - val_loss: 0.0021\n",
      "Epoch 10/10\n",
      "33/33 [==============================] - 7s 202ms/step - loss: 0.0029 - val_loss: 0.0024 1s - los\n",
      "Model: \"sequential_17\"\n",
      "_________________________________________________________________\n",
      " Layer (type)                Output Shape              Param #   \n",
      "=================================================================\n",
      " simple_rnn_40 (SimpleRNN)   (None, 60, 110)           12320     \n",
      "                                                                 \n",
      " dropout_40 (Dropout)        (None, 60, 110)           0         \n",
      "                                                                 \n",
      " simple_rnn_41 (SimpleRNN)   (None, 110)               24310     \n",
      "                                                                 \n",
      " dropout_41 (Dropout)        (None, 110)               0         \n",
      "                                                                 \n",
      " dense_17 (Dense)            (None, 1)                 111       \n",
      "                                                                 \n",
      "=================================================================\n",
      "Total params: 36,741\n",
      "Trainable params: 36,741\n",
      "Non-trainable params: 0\n",
      "_________________________________________________________________\n"
     ]
    }
   ],
   "source": [
    "history = model.fit(x_train,\n",
    "                    y_train,\n",
    "                    batch_size=64,\n",
    "                    epochs=10,\n",
    "                    validation_data=(x_test, y_test),\n",
    "                    validation_freq=1)  #测试的epoch间隔数\n",
    "\n",
    "model.summary()"
   ]
  },
  {
   "cell_type": "code",
   "execution_count": 116,
   "id": "3387cda0",
   "metadata": {
    "ExecuteTime": {
     "end_time": "2022-08-09T00:12:17.754376Z",
     "start_time": "2022-08-09T00:12:17.515050Z"
    },
    "scrolled": true
   },
   "outputs": [
    {
     "data": {
      "image/png": "[encoded data removed]",
      "text/plain": [
       "<Figure size 432x288 with 1 Axes>"
      ]
     },
     "metadata": {
      "needs_background": "light"
     },
     "output_type": "display_data"
    }
   ],
   "source": [
    "plt.plot(history.history['loss'], label='Training Loss')\n",
    "plt.plot(history.history['val_loss'], label='Validation Loss')\n",
    "plt.title('Training and Validation Loss')\n",
    "plt.legend()\n",
    "plt.savefig('pic1.jpg', dpi=600) #指定分辨率保存\n",
    "plt.show()"
   ]
  },
  {
   "cell_type": "code",
   "execution_count": 117,
   "id": "e6457feb",
   "metadata": {
    "ExecuteTime": {
     "end_time": "2022-08-09T00:12:21.700451Z",
     "start_time": "2022-08-09T00:12:21.693502Z"
    }
   },
   "outputs": [
    {
     "data": {
      "text/plain": [
       "(240, 1)"
      ]
     },
     "execution_count": 117,
     "metadata": {},
     "output_type": "execute_result"
    }
   ],
   "source": [
    "predicted_stock_price.shape"
   ]
  },
  {
   "cell_type": "code",
   "execution_count": 118,
   "id": "e400a319",
   "metadata": {
    "ExecuteTime": {
     "end_time": "2022-08-09T00:12:22.836415Z",
     "start_time": "2022-08-09T00:12:22.224055Z"
    }
   },
   "outputs": [
    {
     "data": {
      "image/png": "[encoded data removed]",
      "text/plain": [
       "<Figure size 432x288 with 1 Axes>"
      ]
     },
     "metadata": {
      "needs_background": "light"
     },
     "output_type": "display_data"
    }
   ],
   "source": [
    "predicted_stock_price = model.predict(x_test)  # 测试集输入模型进行预测\n",
    "predicted_stock_price = sc.inverse_transform(\n",
    "    predicted_stock_price)  # 对预测数据还原---从（0，1）反归一化到原始范围\n",
    "real_stock_price = sc.inverse_transform(\n",
    "    test_set[60:])  # 对真实数据还原---从（0，1）反归一化到原始范围\n",
    "\n",
    "# 画出真实数据和预测数据的对比曲线\n",
    "plt.plot(real_stock_price, color='red', label='Stock Price')\n",
    "plt.plot(predicted_stock_price, color='blue', label='Predicted Stock Price')\n",
    "plt.title('Stock Price Prediction')\n",
    "plt.xlabel('Time')\n",
    "plt.ylabel('Stock Price')\n",
    "plt.legend()\n",
    "plt.savefig('pic2.jpg', dpi=600) #指定分辨率保存\n",
    "plt.show()"
   ]
  },
  {
   "cell_type": "code",
   "execution_count": 119,
   "id": "d84b6812",
   "metadata": {
    "ExecuteTime": {
     "end_time": "2022-08-09T00:12:23.073805Z",
     "start_time": "2022-08-09T00:12:23.060817Z"
    }
   },
   "outputs": [
    {
     "name": "stdout",
     "output_type": "stream",
     "text": [
      "均方误差: 1195.69426\n",
      "均方根误差: 34.57881\n",
      "平均绝对误差: 28.94272\n",
      "R2: 0.81633\n"
     ]
    }
   ],
   "source": [
    "\"\"\"\n",
    "MSE  ：均方误差    ----->  预测值减真实值求平方后求均值\n",
    "RMSE ：均方根误差  ----->  对均方误差开方\n",
    "MAE  ：平均绝对误差----->  预测值减真实值求绝对值后求均值\n",
    "R2   ：决定系数，可以简单理解为反映模型拟合优度的重要的统计量\n",
    "\n",
    "详细介绍可以参考文章：https://blog.csdn.net/qq_38251616/article/details/107997435\n",
    "\"\"\"\n",
    "MSE = metrics.mean_squared_error(predicted_stock_price, real_stock_price)\n",
    "RMSE = metrics.mean_squared_error(predicted_stock_price, real_stock_price)**0.5\n",
    "MAE = metrics.mean_absolute_error(predicted_stock_price, real_stock_price)\n",
    "R2 = metrics.r2_score(predicted_stock_price, real_stock_price)\n",
    "\n",
    "print('均方误差: %.5f' % MSE)\n",
    "print('均方根误差: %.5f' % RMSE)\n",
    "print('平均绝对误差: %.5f' % MAE)\n",
    "print('R2: %.5f' % R2)"
   ]
  },
  {
   "cell_type": "code",
   "execution_count": 120,
   "id": "07652180",
   "metadata": {
    "ExecuteTime": {
     "end_time": "2022-08-09T00:27:00.332276Z",
     "start_time": "2022-08-09T00:26:57.561901Z"
    }
   },
   "outputs": [
    {
     "name": "stdout",
     "output_type": "stream",
     "text": [
      "INFO:tensorflow:Assets written to: model_81.6%\\assets\n"
     ]
    }
   ],
   "source": [
    "# 保存模型\n",
    "# model.save('model_81.6%')"
   ]
  },
  {
   "cell_type": "markdown",
   "id": "48d683e9",
   "metadata": {},
   "source": [
    "# tensorboard可视化(2.x版本)"
   ]
  },
  {
   "cell_type": "markdown",
   "id": "94e2018a",
   "metadata": {
    "ExecuteTime": {
     "end_time": "2022-08-28T10:35:20.958903Z",
     "start_time": "2022-08-28T10:35:20.782875Z"
    }
   },
   "source": [
    "## tensorboard小例子"
   ]
  },
  {
   "cell_type": "code",
   "execution_count": null,
   "id": "ac9b521a",
   "metadata": {},
   "outputs": [],
   "source": [
    "import tensorflow as tf\n",
    "\n",
    "gpus = tf.config.list_physical_devices(\"GPU\")\n",
    "\n",
    "if gpus:\n",
    "    tf.config.experimental.set_memory_growth(gpus[0], True)  #设置GPU显存用量按需使用\n",
    "    tf.config.set_visible_devices([gpus[0]], \"GPU\")"
   ]
  },
  {
   "cell_type": "code",
   "execution_count": 29,
   "id": "4629582c",
   "metadata": {
    "ExecuteTime": {
     "end_time": "2022-08-28T11:50:26.608839Z",
     "start_time": "2022-08-28T11:50:19.190526Z"
    }
   },
   "outputs": [],
   "source": [
    "import os, math\n",
    "from tensorflow.keras.layers import Dropout, Dense, SimpleRNN\n",
    "from sklearn.preprocessing import MinMaxScaler\n",
    "from sklearn import metrics\n",
    "import numpy as np\n",
    "import pandas as pd\n",
    "import tensorflow as tf\n",
    "import matplotlib.pyplot as plt\n",
    "# 支持中文\n",
    "plt.rcParams['font.sans-serif'] = ['SimHei']  # 用来正常显示中文标签\n",
    "plt.rcParams['axes.unicode_minus'] = False  # 用来正常显示负号\n",
    "\n",
    "data = pd.read_csv('./datasets/data.csv')  # 读取股票文件\n",
    "training_set = data.iloc[0:2426 - 300, 2:3].values\n",
    "test_set = data.iloc[2426 - 300:, 2:3].values\n",
    "\n",
    "sc = MinMaxScaler(feature_range=(0, 1))\n",
    "training_set = sc.fit_transform(training_set)\n",
    "test_set = sc.transform(test_set)\n",
    "\n",
    "x_train = []\n",
    "y_train = []\n",
    "\n",
    "x_test = []\n",
    "y_test = []\n",
    "\"\"\"\n",
    "使用前60天的开盘价作为输入特征x_train\n",
    "    第61天的开盘价作为输入标签y_train\n",
    "    \n",
    "for循环共构建2426-300-60=2066组训练数据。\n",
    "       共构建300-60=260组测试数据\n",
    "\"\"\"\n",
    "for i in range(60, len(training_set)):\n",
    "    x_train.append(training_set[i - 60:i, 0])\n",
    "    y_train.append(training_set[i, 0])\n",
    "\n",
    "for i in range(60, len(test_set)):\n",
    "    x_test.append(test_set[i - 60:i, 0])\n",
    "    y_test.append(test_set[i, 0])\n",
    "\n",
    "# 对训练集进行打乱\n",
    "# 要对数据集乱序，输入特征是第1组数据，标签是第2组数据，要对输入特征和标签都做乱序，为了一一对应，就需要随机种子确定\n",
    "# https://blog.csdn.net/qq_36201400/article/details/108512368\n",
    "# tf.random.set_seed用法\n",
    "\n",
    "np.random.seed(7)\n",
    "np.random.shuffle(x_train)\n",
    "np.random.seed(7)\n",
    "np.random.shuffle(y_train)\n",
    "tf.random.set_seed(7)\n",
    "\n",
    "x_train, y_train = np.array(x_train), np.array(y_train) # x_train形状为：(2066, 60, 1)\n",
    "x_test,  y_test  = np.array(x_test),  np.array(y_test)\n",
    "x_train = np.reshape(x_train, (x_train.shape[0], 60, 1))\n",
    "x_test = np.reshape(x_test, (x_test.shape[0], 60, 1))\n",
    "\n",
    "model = tf.keras.Sequential([\n",
    "    SimpleRNN(110, return_sequences=True), #布尔值。是返回输出序列中的最后一个输出，还是全部序列。\n",
    "    Dropout(0.2),                         #防止过拟合\n",
    "    SimpleRNN(110),\n",
    "    Dropout(0.1),\n",
    "    Dense(1)\n",
    "])\n",
    "\n",
    "# 该应用只观测loss数值，不观测准确率，所以删去metrics选项，一会在每个epoch迭代显示时只显示loss值\n",
    "model.compile(optimizer=tf.keras.optimizers.Adam(0.001),\n",
    "              loss='mean_squared_error')  # 损失函数用均方误差\n"
   ]
  },
  {
   "cell_type": "code",
   "execution_count": 34,
   "id": "a04c40e0",
   "metadata": {
    "ExecuteTime": {
     "end_time": "2022-08-28T11:58:01.029633Z",
     "start_time": "2022-08-28T11:57:03.175778Z"
    }
   },
   "outputs": [
    {
     "name": "stdout",
     "output_type": "stream",
     "text": [
      "Train on 2066 samples, validate on 240 samples\n",
      "Epoch 1/10\n"
     ]
    },
    {
     "name": "stderr",
     "output_type": "stream",
     "text": [
      "C:\\Users\\HP ZBook15\\AppData\\Roaming\\Python\\Python37\\site-packages\\keras\\engine\\training_v1.py:2045: UserWarning: `Model.state_updates` will be removed in a future version. This property should not be used in TensorFlow 2.0, as `updates` are applied automatically.\n",
      "  updates = self.state_updates\n"
     ]
    },
    {
     "name": "stdout",
     "output_type": "stream",
     "text": [
      "2066/2066 [==============================] - 8s 4ms/sample - loss: 0.0547 - val_loss: 0.0090\n",
      "Epoch 2/10\n",
      "2066/2066 [==============================] - 5s 2ms/sample - loss: 0.0112 - val_loss: 0.0404\n",
      "Epoch 3/10\n",
      "2066/2066 [==============================] - 5s 2ms/sample - loss: 0.0071 - val_loss: 0.0451\n",
      "Epoch 4/10\n",
      "2066/2066 [==============================] - 6s 3ms/sample - loss: 0.0052 - val_loss: 0.0254\n",
      "Epoch 5/10\n",
      "2066/2066 [==============================] - 6s 3ms/sample - loss: 0.0041 - val_loss: 0.0162\n",
      "Epoch 6/10\n",
      "2066/2066 [==============================] - 5s 3ms/sample - loss: 0.0032 - val_loss: 0.0362\n",
      "Epoch 7/10\n",
      "2066/2066 [==============================] - 5s 2ms/sample - loss: 0.0031 - val_loss: 0.0402\n",
      "Epoch 8/10\n",
      "2066/2066 [==============================] - 5s 2ms/sample - loss: 0.0026 - val_loss: 0.0173\n",
      "Epoch 9/10\n",
      "2066/2066 [==============================] - 6s 3ms/sample - loss: 0.0024 - val_loss: 0.0068\n",
      "Epoch 10/10\n",
      "2066/2066 [==============================] - 6s 3ms/sample - loss: 0.0023 - val_loss: 0.0072\n",
      "Model: \"sequential\"\n",
      "_________________________________________________________________\n",
      " Layer (type)                Output Shape              Param #   \n",
      "=================================================================\n",
      " simple_rnn (SimpleRNN)      multiple                  12320     \n",
      "                                                                 \n",
      " dropout (Dropout)           multiple                  0         \n",
      "                                                                 \n",
      " simple_rnn_1 (SimpleRNN)    multiple                  24310     \n",
      "                                                                 \n",
      " dropout_1 (Dropout)         multiple                  0         \n",
      "                                                                 \n",
      " dense (Dense)               multiple                  111       \n",
      "                                                                 \n",
      "=================================================================\n",
      "Total params: 36,741\n",
      "Trainable params: 36,741\n",
      "Non-trainable params: 0\n",
      "_________________________________________________________________\n"
     ]
    }
   ],
   "source": [
    "##定义回调函数\n",
    "\n",
    "log_dir = os.path.join(r'E:\\demo_study\\jupyter\\Jupyter_notebook\\Stock-forecast-based-on-RNN\\tensorboard') \n",
    "tensorboard_callback = tf.keras.callbacks.TensorBoard(log_dir,histogram_freq=1)\n",
    "\n",
    "history = model.fit(x_train,\n",
    "                    y_train,\n",
    "                    batch_size=64,\n",
    "                    epochs=10,\n",
    "                    validation_data=(x_test, y_test),\n",
    "                    validation_freq=1, #测试的epoch间隔数\n",
    "                    callbacks=[tensorboard_callback])  \n",
    "\n",
    "model.summary()"
   ]
  },
  {
   "cell_type": "markdown",
   "id": "1a2b787e",
   "metadata": {},
   "source": [
    "在我这里输入如下命令即可看到 tensorboard 的可视化： \n",
    "tensorboard --logdir=\"E:\\demo_study\\jupyter\\Jupyter_notebook\\Stock-forecast-based-on-RNN\\tensorboard\""
   ]
  },
  {
   "cell_type": "code",
   "execution_count": null,
   "id": "0c8b9038",
   "metadata": {},
   "outputs": [],
   "source": []
  }
 ],
 "metadata": {
  "kernelspec": {
   "display_name": "Python 3 (ipykernel)",
   "language": "python",
   "name": "python3"
  },
  "language_info": {
   "codemirror_mode": {
    "name": "ipython",
    "version": 3
   },
   "file_extension": ".py",
   "mimetype": "text/x-python",
   "name": "python",
   "nbconvert_exporter": "python",
   "pygments_lexer": "ipython3",
   "version": "3.7.13"
  },
  "latex_envs": {
   "LaTeX_envs_menu_present": true,
   "autoclose": false,
   "autocomplete": true,
   "bibliofile": "biblio.bib",
   "cite_by": "apalike",
   "current_citInitial": 1,
   "eqLabelWithNumbers": true,
   "eqNumInitial": 1,
   "hotkeys": {
    "equation": "Ctrl-E",
    "itemize": "Ctrl-I"
   },
   "labels_anchors": false,
   "latex_user_defs": false,
   "report_style_numbering": false,
   "user_envs_cfg": false
  },
  "toc": {
   "base_numbering": 1,
   "nav_menu": {},
   "number_sections": true,
   "sideBar": true,
   "skip_h1_title": false,
   "title_cell": "Table of Contents",
   "title_sidebar": "Contents",
   "toc_cell": false,
   "toc_position": {},
   "toc_section_display": true,
   "toc_window_display": false
  },
  "varInspector": {
   "cols": {
    "lenName": 16,
    "lenType": 16,
    "lenVar": 40
   },
   "kernels_config": {
    "python": {
     "delete_cmd_postfix": "",
     "delete_cmd_prefix": "del ",
     "library": "var_list.py",
     "varRefreshCmd": "print(var_dic_list())"
    },
    "r": {
     "delete_cmd_postfix": ") ",
     "delete_cmd_prefix": "rm(",
     "library": "var_list.r",
     "varRefreshCmd": "cat(var_dic_list()) "
    }
   },
   "types_to_exclude": [
    "module",
    "function",
    "builtin_function_or_method",
    "instance",
    "_Feature"
   ],
   "window_display": false
  }
 },
 "nbformat": 4,
 "nbformat_minor": 5
}
